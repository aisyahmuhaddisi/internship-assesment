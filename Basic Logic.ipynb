{
 "cells": [
  {
   "cell_type": "code",
   "execution_count": 1,
   "metadata": {},
   "outputs": [],
   "source": [
    "def baseFunction(input_angka):\n",
    "    string = ''\n",
    "    str_input_angka = str(input_angka)\n",
    "    if input_angka < 10:\n",
    "        string = angka[input_angka]\n",
    "    \n",
    "    elif input_angka < 20 and input_angka >= 10:\n",
    "        if input_angka == 10:\n",
    "            string = 'sepuluh'\n",
    "        elif input_angka == 11:\n",
    "            string = 'sebelas'\n",
    "        else:\n",
    "            string = angka[int(str_input_angka[1])] +' '+ angka2[0]\n",
    "\n",
    "    elif input_angka >= 20 and input_angka < 100:\n",
    "        string = angka[int(str_input_angka[0])] + ' ' + angka2[1] + ' '\n",
    "        if input_angka % 10 != 0:\n",
    "            string += angka[int(str_input_angka[1])]\n",
    "            \n",
    "    return string"
   ]
  },
  {
   "cell_type": "code",
   "execution_count": 2,
   "metadata": {},
   "outputs": [],
   "source": [
    "def ratusan(input_angka):\n",
    "    str_input_angka = str(input_angka)\n",
    "    string = ''\n",
    "    \n",
    "    if len(str_input_angka) < 3:\n",
    "        string = baseFunction(input_angka)\n",
    "    else:\n",
    "        angka_kedua = baseFunction(input_angka%100)\n",
    "        if angka_kedua == 'nol': \n",
    "            angka_kedua = ''\n",
    "        if str_input_angka[0] == '1':\n",
    "            string = 'seratus ' + angka_kedua\n",
    "        else:\n",
    "            string = angka[int(str_input_angka[0])] + ' ratus ' + angka_kedua\n",
    "            \n",
    "    return string"
   ]
  },
  {
   "cell_type": "code",
   "execution_count": 3,
   "metadata": {},
   "outputs": [],
   "source": [
    "def ribuan(input_angka):\n",
    "    str_input_angka = str(input_angka)\n",
    "    string = ''\n",
    "    angka_kedua = ratusan(input_angka%1000)\n",
    "    \n",
    "    if angka_kedua == 'nol': \n",
    "        angka_kedua = ''\n",
    "    if input_angka > 9999:\n",
    "        angka_ketiga = ratusan(int(str_input_angka[:-3]))\n",
    "        \n",
    "    if input_angka > 1999:\n",
    "        string = angka_ketiga + ' ribu ' + angka_kedua\n",
    "    elif str_input_angka[0] == '1':\n",
    "        string = 'seribu ' + angka_kedua\n",
    "        \n",
    "    return string"
   ]
  },
  {
   "cell_type": "code",
   "execution_count": 4,
   "metadata": {},
   "outputs": [],
   "source": [
    "def juta(input_angka):\n",
    "    str_input_angka = str(input_angka)\n",
    "    string = ''\n",
    "    angka_kedua = ribuan(input_angka%1000000)\n",
    "    \n",
    "    if angka_kedua == 'nol': \n",
    "        angka_kedua = ''\n",
    "    if input_angka > 99999:\n",
    "        angka_keempat = ratusan(int(str_input_angka[:-6]))\n",
    "        \n",
    "    if input_angka > 1999999:\n",
    "        string = angka_keempat + ' juta ' + angka_kedua\n",
    "    elif str_input_angka[0] == '1':\n",
    "        string = 'sejuta ' + angka_kedua\n",
    "        \n",
    "    return string"
   ]
  },
  {
   "cell_type": "code",
   "execution_count": 5,
   "metadata": {},
   "outputs": [],
   "source": [
    "def miliar(input_angka):\n",
    "    str_input_angka = str(input_angka)\n",
    "    string = ''\n",
    "    angka_kedua = juta(input_angka%1000000000)\n",
    "    \n",
    "    if angka_kedua == 'nol': \n",
    "        angka_kedua = ''\n",
    "    if input_angka > 99999999:\n",
    "        angka_keempat = ratusan(int(str_input_angka[:-9]))\n",
    "        \n",
    "    string = angka_keempat + ' milyar ' + angka_kedua\n",
    "    return string"
   ]
  },
  {
   "cell_type": "code",
   "execution_count": 6,
   "metadata": {},
   "outputs": [
    {
     "name": "stdout",
     "output_type": "stream",
     "text": [
      "dua puluh sembilan milyar sembilan ratus lima puluh lima juta lima ratus lima puluh lima ribu lima ratus lima puluh lima\n"
     ]
    }
   ],
   "source": [
    "angka = ['nol', 'satu', 'dua', 'tiga', 'empat', 'lima', 'enam', 'tujuh', 'delapan', 'sembilan']\n",
    "angka2 = ['belas', 'puluh', 'ratus', 'ribu', 'juta']\n",
    "input_angka = 29955555555\n",
    "if len(str(input_angka)) < 3:\n",
    "    string = baseFunction(input_angka)\n",
    "elif len(str(input_angka)) == 3:\n",
    "    string = ratusan(input_angka)\n",
    "elif len(str(input_angka)) < 7 and len(str(input_angka)) > 3:\n",
    "    string = ribuan(input_angka)\n",
    "elif len(str(input_angka)) >= 7 and len(str(input_angka)) < 10:\n",
    "    string = juta(input_angka)\n",
    "elif len(str(input_angka)) >= 10 and len(str(input_angka)) < 13:\n",
    "    string = miliar(input_angka)\n",
    "else:\n",
    "    print('maaf angka terlalu besar')\n",
    "print(string)"
   ]
  },
  {
   "cell_type": "code",
   "execution_count": null,
   "metadata": {},
   "outputs": [],
   "source": []
  }
 ],
 "metadata": {
  "kernelspec": {
   "display_name": "Python 3",
   "language": "python",
   "name": "python3"
  },
  "language_info": {
   "codemirror_mode": {
    "name": "ipython",
    "version": 3
   },
   "file_extension": ".py",
   "mimetype": "text/x-python",
   "name": "python",
   "nbconvert_exporter": "python",
   "pygments_lexer": "ipython3",
   "version": "3.8.1"
  }
 },
 "nbformat": 4,
 "nbformat_minor": 4
}
